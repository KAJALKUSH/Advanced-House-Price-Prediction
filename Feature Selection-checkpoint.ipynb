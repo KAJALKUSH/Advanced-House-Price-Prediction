{
 "cells": [
  {
   "cell_type": "markdown",
   "id": "8afa5cdb",
   "metadata": {},
   "source": [
    "# Feature Selection Advanced Housing Price Prediction\n"
   ]
  },
  {
   "cell_type": "code",
   "execution_count": null,
   "id": "d5013293",
   "metadata": {},
   "outputs": [],
   "source": [
    "import pandas as pd\n",
    "im"
   ]
  }
 ],
 "metadata": {
  "kernelspec": {
   "display_name": "Python 3 (ipykernel)",
   "language": "python",
   "name": "python3"
  },
  "language_info": {
   "codemirror_mode": {
    "name": "ipython",
    "version": 3
   },
   "file_extension": ".py",
   "mimetype": "text/x-python",
   "name": "python",
   "nbconvert_exporter": "python",
   "pygments_lexer": "ipython3",
   "version": "3.9.12"
  }
 },
 "nbformat": 4,
 "nbformat_minor": 5
}
